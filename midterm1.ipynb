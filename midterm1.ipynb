{
 "cells": [
  {
   "cell_type": "code",
   "execution_count": 1,
   "metadata": {
    "collapsed": true
   },
   "outputs": [],
   "source": [
    "import pandas as pd\n",
    "import numpy as np\n",
    "import matplotlib.pyplot as plt\n",
    "\n",
    "from functions import *"
   ]
  },
  {
   "cell_type": "code",
   "execution_count": null,
   "outputs": [
    {
     "name": "stderr",
     "output_type": "stream",
     "text": [
      "C:\\Users\\Михаил\\AppData\\Roaming\\Python\\Python39\\site-packages\\IPython\\core\\interactiveshell.py:3441: DtypeWarning: Columns (119) have mixed types.Specify dtype option on import or set low_memory=False.\n",
      "  exec(code_obj, self.user_global_ns, self.user_ns)\n",
      "C:\\Users\\Михаил\\AppData\\Roaming\\Python\\Python39\\site-packages\\IPython\\core\\interactiveshell.py:3441: DtypeWarning: Columns (100,116,117,118,120,122,123,124,125) have mixed types.Specify dtype option on import or set low_memory=False.\n",
      "  exec(code_obj, self.user_global_ns, self.user_ns)\n"
     ]
    }
   ],
   "source": [
    "path = 'M1_data'\n",
    "#first we read data for 2016-2021 and put then into dictionary\n",
    "#2016 is not utf-8\n",
    "data = {2016: pd.read_csv('{0}/OpenData{1}.csv'.format(path,'2016'), sep = ';', encoding='Windows-1251')}\n",
    "for i in range(2017,2019):\n",
    "    data[i] = pd.read_csv('{0}/OpenData{1}.csv'.format(path,str(i)), sep =';')\n",
    "#2019-2021 has another file names\n",
    "for i in range(2019,2021):\n",
    "    data[i] = pd.read_csv('{0}/OData{1}File.csv'.format(path,str(i)), sep =';', encoding='Windows-1251')\n",
    "\n",
    "data[2021] = pd.read_csv('{0}/OData{1}File.csv'.format(path, '2021'), sep =';')\n",
    "#Now we need to frix columns names. In some years they start from lower 'physBall100' in other from capital 'PhysBall100'\n",
    "for i in data: data[i].columns = [j.lower() for j in data[i].columns]\n"
   ],
   "metadata": {
    "collapsed": false,
    "pycharm": {
     "name": "#%%\n",
     "is_executing": true
    }
   }
  },
  {
   "cell_type": "code",
   "execution_count": 3,
   "outputs": [
    {
     "name": "stderr",
     "output_type": "stream",
     "text": [
      "E:\\загрузки\\учеба\\1м семестр\\ML_Poleshchuk\\functions.py:15: SettingWithCopyWarning: \n",
      "A value is trying to be set on a copy of a slice from a DataFrame\n",
      "\n",
      "See the caveats in the documentation: https://pandas.pydata.org/pandas-docs/stable/user_guide/indexing.html#returning-a-view-versus-a-copy\n",
      "  data[subj][i[0]] = conv_val\n",
      "E:\\загрузки\\учеба\\1м семестр\\ML_Poleshchuk\\functions.py:29: SettingWithCopyWarning: \n",
      "A value is trying to be set on a copy of a slice from a DataFrame.\n",
      "Try using .loc[row_indexer,col_indexer] = value instead\n",
      "\n",
      "See the caveats in the documentation: https://pandas.pydata.org/pandas-docs/stable/user_guide/indexing.html#returning-a-view-versus-a-copy\n",
      "  passed[subj] = passed[subj].astype(np.float)\n"
     ]
    }
   ],
   "source": [
    "for i in data: data[i].columns = [j.lower() for j in data[i].columns]\n",
    "phys_marks_data = [get_all_marks(data[i], 'physball100')[0] for i in range(2016,2022)]"
   ],
   "metadata": {
    "collapsed": false,
    "pycharm": {
     "name": "#%%\n"
    }
   }
  },
  {
   "cell_type": "code",
   "execution_count": 4,
   "outputs": [],
   "source": [
    "years = list(range(2016,2022))\n",
    "average_phys_marks = np.array([np.average(j['physball100']) for j in phys_marks_data])"
   ],
   "metadata": {
    "collapsed": false,
    "pycharm": {
     "name": "#%%\n"
    }
   }
  },
  {
   "cell_type": "code",
   "execution_count": 5,
   "outputs": [],
   "source": [
    "phys_fails_data = [get_all_marks(data[i], 'physball100')[1] for i in range(2016,2022)]"
   ],
   "metadata": {
    "collapsed": false,
    "pycharm": {
     "name": "#%%\n"
    }
   }
  },
  {
   "cell_type": "code",
   "execution_count": 6,
   "outputs": [
    {
     "data": {
      "text/plain": "array([134.95231731, 134.06418049, 136.9232012 , 136.31584441,\n       138.4203831 , 137.40850764])"
     },
     "execution_count": 6,
     "metadata": {},
     "output_type": "execute_result"
    }
   ],
   "source": [
    "average_phys_marks\n",
    "#d = get_all_marks(data[2020], 'PhysBall100')"
   ],
   "metadata": {
    "collapsed": false,
    "pycharm": {
     "name": "#%%\n"
    }
   }
  },
  {
   "cell_type": "code",
   "execution_count": 7,
   "outputs": [],
   "source": [
    "math_marks_data = [get_all_marks(data[i], 'mathball100')[0] for i in range(2016,2022)]"
   ],
   "metadata": {
    "collapsed": false,
    "pycharm": {
     "name": "#%%\n"
    }
   }
  },
  {
   "cell_type": "code",
   "execution_count": 8,
   "outputs": [],
   "source": [
    "average_math_marks = np.array([np.average(j['mathball100']) for j in math_marks_data])\n",
    "math_fails_data = [get_all_marks(data[i], 'mathball100')[1] for i in range(2016,2022)]"
   ],
   "metadata": {
    "collapsed": false,
    "pycharm": {
     "name": "#%%\n"
    }
   }
  },
  {
   "cell_type": "code",
   "execution_count": 9,
   "outputs": [
    {
     "data": {
      "text/plain": "array([137.94307058, 140.56498975, 140.75686338, 139.36829723,\n       138.44456582, 137.87315955])"
     },
     "execution_count": 9,
     "metadata": {},
     "output_type": "execute_result"
    }
   ],
   "source": [
    "average_math_marks"
   ],
   "metadata": {
    "collapsed": false,
    "pycharm": {
     "name": "#%%\n"
    }
   }
  },
  {
   "cell_type": "code",
   "execution_count": 12,
   "outputs": [
    {
     "name": "stderr",
     "output_type": "stream",
     "text": [
      "E:\\загрузки\\учеба\\1м семестр\\ML_Poleshchuk\\functions.py:15: SettingWithCopyWarning: \n",
      "A value is trying to be set on a copy of a slice from a DataFrame\n",
      "\n",
      "See the caveats in the documentation: https://pandas.pydata.org/pandas-docs/stable/user_guide/indexing.html#returning-a-view-versus-a-copy\n",
      "  data[subj][i[0]] = conv_val\n",
      "E:\\загрузки\\учеба\\1м семестр\\ML_Poleshchuk\\functions.py:29: SettingWithCopyWarning: \n",
      "A value is trying to be set on a copy of a slice from a DataFrame.\n",
      "Try using .loc[row_indexer,col_indexer] = value instead\n",
      "\n",
      "See the caveats in the documentation: https://pandas.pydata.org/pandas-docs/stable/user_guide/indexing.html#returning-a-view-versus-a-copy\n",
      "  passed[subj] = passed[subj].astype(np.float)\n"
     ]
    }
   ],
   "source": [
    "chem_marks_data = [get_all_marks(data[i], 'chemball100')[0] for i in range(2016,2022)]"
   ],
   "metadata": {
    "collapsed": false,
    "pycharm": {
     "name": "#%%\n"
    }
   }
  },
  {
   "cell_type": "code",
   "execution_count": 13,
   "outputs": [],
   "source": [
    "average_chem_marks = np.array([np.average(j['chemball100']) for j in chem_marks_data])\n",
    "chem_fails_data = [get_all_marks(data[i], 'chemball100')[1] for i in range(2016,2022)]"
   ],
   "metadata": {
    "collapsed": false,
    "pycharm": {
     "name": "#%%\n"
    }
   }
  },
  {
   "cell_type": "code",
   "execution_count": 14,
   "outputs": [],
   "source": [
    "bio_marks_data = [get_all_marks(data[i], 'bioball100')[0] for i in range(2016,2022)]"
   ],
   "metadata": {
    "collapsed": false,
    "pycharm": {
     "name": "#%%\n"
    }
   }
  },
  {
   "cell_type": "code",
   "execution_count": 15,
   "outputs": [],
   "source": [
    "average_bio_marks = np.array([np.average(j['bioball100']) for j in bio_marks_data])\n",
    "bio_fails_data = [get_all_marks(data[i], 'bioball100')[1] for i in range(2016,2022)]\n"
   ],
   "metadata": {
    "collapsed": false,
    "pycharm": {
     "name": "#%%\n"
    }
   }
  },
  {
   "cell_type": "code",
   "execution_count": 19,
   "outputs": [
    {
     "data": {
      "text/plain": "Text(0.5, 1.0, 'Average mark of students who passed')"
     },
     "execution_count": 19,
     "metadata": {},
     "output_type": "execute_result"
    },
    {
     "data": {
      "text/plain": "<Figure size 432x288 with 1 Axes>",
      "image/png": "[encoded data removed]"
     },
     "metadata": {
      "needs_background": "light"
     },
     "output_type": "display_data"
    }
   ],
   "source": [
    "plt.plot(years, average_phys_marks, 'bo', label = 'physics')\n",
    "plt.plot(years, average_math_marks, 'ro', label = 'math')\n",
    "plt.plot(years, average_chem_marks, 'yo', label = 'chemistry')\n",
    "plt.plot(years, average_bio_marks, 'go', label = 'biology')\n",
    "plt.plot(years, average_phys_marks, 'b-')\n",
    "plt.plot(years, average_math_marks, 'r-')\n",
    "plt.plot(years, average_chem_marks, 'y-')\n",
    "plt.plot(years, average_bio_marks, 'g-')\n",
    "plt.legend()\n",
    "plt.title('Average mark of students who passed')"
   ],
   "metadata": {
    "collapsed": false,
    "pycharm": {
     "name": "#%%\n"
    }
   }
  },
  {
   "cell_type": "code",
   "execution_count": 22,
   "outputs": [
    {
     "data": {
      "text/plain": "2458670"
     },
     "execution_count": 22,
     "metadata": {},
     "output_type": "execute_result"
    }
   ],
   "source": [
    "np.size(phys_marks_data[0])"
   ],
   "metadata": {
    "collapsed": false,
    "pycharm": {
     "name": "#%%\n"
    }
   }
  },
  {
   "cell_type": "code",
   "execution_count": 26,
   "outputs": [],
   "source": [
    "percent_of_fails_phys = [np.size(phys_fails_data[i])*100/(np.size(phys_fails_data[i])+np.size(phys_marks_data[i]))\n",
    "                         for i in range(len(years))]\n",
    "percent_of_fails_math = [np.size(math_fails_data[i])*100/(np.size(math_fails_data[i])+np.size(math_marks_data[i]))\n",
    "                         for i in range(len(years))]\n",
    "percent_of_fails_chem = [np.size(chem_fails_data[i])*100/(np.size(chem_fails_data[i])+np.size(chem_marks_data[i]))\n",
    "                         for i in range(len(years))]\n",
    "percent_of_fails_bio = [np.size(bio_fails_data[i])*100/(np.size(bio_fails_data[i])+np.size(bio_marks_data[i]))\n",
    "                         for i in range(len(years))]"
   ],
   "metadata": {
    "collapsed": false,
    "pycharm": {
     "name": "#%%\n"
    }
   }
  },
  {
   "cell_type": "code",
   "execution_count": 28,
   "outputs": [
    {
     "data": {
      "text/plain": "Text(0.5, 1.0, 'Percent of students who failed')"
     },
     "execution_count": 28,
     "metadata": {},
     "output_type": "execute_result"
    },
    {
     "data": {
      "text/plain": "<Figure size 432x288 with 1 Axes>",
      "image/png": "[encoded data removed]"
     },
     "metadata": {
      "needs_background": "light"
     },
     "output_type": "display_data"
    }
   ],
   "source": [
    "plt.plot(years, percent_of_fails_phys, 'bo', label = 'physics')\n",
    "plt.plot(years, percent_of_fails_math, 'ro', label = 'math')\n",
    "plt.plot(years, percent_of_fails_chem, 'yo', label = 'chemistry')\n",
    "plt.plot(years, percent_of_fails_bio, 'go', label = 'biology')\n",
    "plt.plot(years, percent_of_fails_phys, 'b-')\n",
    "plt.plot(years, percent_of_fails_math, 'r-')\n",
    "plt.plot(years, percent_of_fails_chem , 'y-')\n",
    "plt.plot(years, percent_of_fails_bio, 'g-')\n",
    "plt.legend()\n",
    "plt.title('Percent of students who failed')"
   ],
   "metadata": {
    "collapsed": false,
    "pycharm": {
     "name": "#%%\n"
    }
   }
  }
 ],
 "metadata": {
  "kernelspec": {
   "display_name": "Python 3",
   "language": "python",
   "name": "python3"
  },
  "language_info": {
   "codemirror_mode": {
    "name": "ipython",
    "version": 2
   },
   "file_extension": ".py",
   "mimetype": "text/x-python",
   "name": "python",
   "nbconvert_exporter": "python",
   "pygments_lexer": "ipython2",
   "version": "2.7.6"
  }
 },
 "nbformat": 4,
 "nbformat_minor": 0
}